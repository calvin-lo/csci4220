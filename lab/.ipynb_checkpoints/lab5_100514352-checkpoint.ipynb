{
 "cells": [
  {
   "cell_type": "code",
   "execution_count": 1,
   "metadata": {
    "collapsed": true
   },
   "outputs": [],
   "source": [
    "import numpy as np\n",
    "import scipy as sp\n",
    "from scipy import signal\n",
    "import cv2\n",
    "import matplotlib.pyplot as plt\n",
    "import math\n",
    "%matplotlib inline"
   ]
  },
  {
   "cell_type": "code",
   "execution_count": 2,
   "metadata": {
    "collapsed": false
   },
   "outputs": [],
   "source": [
    "img = cv2.imread('lena.jpg',0)\n",
    "edges = cv2.Canny(img,240,300)"
   ]
  },
  {
   "cell_type": "markdown",
   "metadata": {},
   "source": [
    "# Finding the angle "
   ]
  },
  {
   "cell_type": "code",
   "execution_count": 3,
   "metadata": {
    "collapsed": false
   },
   "outputs": [],
   "source": [
    "G = cv2.GaussianBlur(img,(5,5),0)\n",
    "\n",
    "sobelx = cv2.Sobel(G,cv2.CV_64F,1,0,ksize=5)\n",
    "sobely = cv2.Sobel(G,cv2.CV_64F,0,1,ksize=5)\n",
    "\n",
    "Angle = cv2.phase(sobelx, sobely,angleInDegrees=True) #atan2(sobely,sobelx)"
   ]
  },
  {
   "cell_type": "markdown",
   "metadata": {},
   "source": [
    "# Get the color"
   ]
  },
  {
   "cell_type": "code",
   "execution_count": 4,
   "metadata": {
    "collapsed": false
   },
   "outputs": [],
   "source": [
    "color = cv2.imread('color-wheel.jpg',1)\n",
    "color = cv2.cvtColor(color, cv2.COLOR_BGR2RGB)\n",
    "\n",
    "c = []\n",
    "\n",
    "for i in range(0,360):\n",
    "    angle = np.radians(i) - np.pi/2\n",
    "    x = int(color.shape[1]/2 + 35 * np.cos(angle))\n",
    "    y = int(color.shape[0]/2 + 35 * np.sin(angle))\n",
    "    c.append(tuple(color[y][x]))"
   ]
  },
  {
   "cell_type": "markdown",
   "metadata": {},
   "source": [
    "# Result"
   ]
  },
  {
   "cell_type": "code",
   "execution_count": 5,
   "metadata": {
    "collapsed": false
   },
   "outputs": [
    {
     "data": {
      "text/plain": [
       "<matplotlib.image.AxesImage at 0x7fdf9664e7d0>"
      ]
     },
     "execution_count": 5,
     "metadata": {},
     "output_type": "execute_result"
    },
    {
     "data": {
      "image/png": "[encoded data removed]",
      "text/plain": [
       "<matplotlib.figure.Figure at 0x7fdf9664e8d0>"
      ]
     },
     "metadata": {},
     "output_type": "display_data"
    }
   ],
   "source": [
    "x = edges.shape[0]\n",
    "y = edges.shape[1]\n",
    "\n",
    "out = np.zeros((x,y,3), np.uint8)\n",
    "\n",
    "for i in range(0,x):\n",
    "    for j in range (0,y):\n",
    "        if edges[i][j] != 0:\n",
    "            out[i][j] = c[int(Angle[i][j])]\n",
    "\n",
    "plt.imshow(out)"
   ]
  },
  {
   "cell_type": "code",
   "execution_count": null,
   "metadata": {
    "collapsed": true
   },
   "outputs": [],
   "source": []
  }
 ],
 "metadata": {
  "kernelspec": {
   "display_name": "Python 2",
   "language": "python",
   "name": "python2"
  },
  "language_info": {
   "codemirror_mode": {
    "name": "ipython",
    "version": 2
   },
   "file_extension": ".py",
   "mimetype": "text/x-python",
   "name": "python",
   "nbconvert_exporter": "python",
   "pygments_lexer": "ipython2",
   "version": "2.7.12+"
  }
 },
 "nbformat": 4,
 "nbformat_minor": 2
}
