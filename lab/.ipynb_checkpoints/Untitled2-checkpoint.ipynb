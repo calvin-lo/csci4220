{
 "cells": [
  {
   "cell_type": "code",
   "execution_count": null,
   "metadata": {
    "collapsed": true
   },
   "outputs": [],
   "source": [
    "import numpy as np\n",
    "import scipy as sp\n",
    "from scipy import signal\n",
    "import cv2\n",
    "import matplotlib.pyplot as plt\n",
    "%matplotlib inline"
   ]
  },
  {
   "cell_type": "code",
   "execution_count": null,
   "metadata": {
    "collapsed": false
   },
   "outputs": [],
   "source": [
    "img = cv2.imread('messi.jpg',0)\n",
    "\n",
    "dft = cv2.dft(np.float32(img),flags = cv2.DFT_COMPLEX_OUTPUT)\n",
    "dft_shift = np.fft.fftshift(dft)\n",
    "\n",
    "rows, cols = img.shape\n",
    "crow,ccol = rows/2 , cols/2\n",
    "\n",
    "# create a mask first, center square is 1, remaining all zeros\n",
    "mask = np.zeros((rows,cols,2),np.uint8)\n",
    "mask[crow+11:crow+30, ccol-30:ccol-11] = -1\n",
    "mask[crow+11:crow+30, ccol-10:ccol+10] = 0\n",
    "mask[crow+11:crow+30, ccol+11:ccol+30] = 1\n",
    "\n",
    "mask[crow-10:crow+10, ccol-30:ccol-11] = -2\n",
    "mask[crow-10:crow+10, ccol-10:ccol+10] = 0\n",
    "mask[crow-10:crow+10, ccol+11:ccol+30] = 2\n",
    "\n",
    "mask[crow-30:crow-11, ccol-30:ccol-11] = -1\n",
    "mask[crow-30:crow-11, ccol-10:ccol+10] = 0\n",
    "mask[crow-30:crow-11, ccol+11:ccol+30] = 1\n",
    "\n",
    "# apply mask and inverse DFT\n",
    "fshift = dft_shift*mask\n",
    "f_ishift = np.fft.ifftshift(fshift)\n",
    "img_back = cv2.idft(f_ishift)\n",
    "img_back = cv2.magnitude(img_back[:,:,0],img_back[:,:,1])\n",
    "\n",
    "plt.figure(figsize=(25,25))\n",
    "\n",
    "plt.subplot(121),plt.imshow(img, cmap = 'gray')\n",
    "plt.subplot(122),plt.imshow(img_back, cmap = 'gray')\n",
    "plt.show()"
   ]
  },
  {
   "cell_type": "code",
   "execution_count": null,
   "metadata": {
    "collapsed": false
   },
   "outputs": [],
   "source": [
    "rows, cols = img.shape\n",
    "crow,ccol = rows/3 , cols/3\n",
    "\n",
    "fshift[:crow, :ccol] = fft_shift[0][0]\n",
    "fshift[:crow, ccol:ccol+ccol] = fft_shift[0][1]\n",
    "fshift[:crow, ccol+ccol:] = fft_shift[0][2]\n",
    "\n",
    "fshift[crow:crow+crow, :ccol] = fft_shift[1][0]\n",
    "fshift[crow:crow+crow, ccol:ccol+ccol] = fft_shift[1][1]\n",
    "fshift[crow:crow+crow, ccol+ccol:] = fft_shift[1][2]\n",
    "\n",
    "fshift[crow+crow:, :ccol] = fft_shift[2][0]\n",
    "fshift[crow+crow:, ccol:ccol+ccol] = fft_shift[2][1]\n",
    "fshift[crow+crow:, ccol+ccol:] = fft_shift[2][2]\n",
    "\n",
    "plt.imshow(result, 'gray')"
   ]
  },
  {
   "cell_type": "code",
   "execution_count": null,
   "metadata": {
    "collapsed": true
   },
   "outputs": [],
   "source": [
    "crow,ccol = rows/2 , cols/2\n",
    "\n",
    "fshift[crow+10:crow+30, ccol-30:ccol-10] = fft_shift[0][0]\n",
    "fshift[crow+10:crow+30, ccol-10:ccol+10] = fft_shift[0][1]\n",
    "fshift[crow+10:crow+30, ccol+10:ccol+30] = fft_shift[0][2]\n",
    "\n",
    "fshift[crow-10:crow+10, ccol-30:ccol-10] = fft_shift[1][0]\n",
    "fshift[crow-10:crow+10, ccol-10:ccol+10] = fft_shift[1][1]\n",
    "fshift[crow-10:crow+10, ccol+10:ccol+30] = fft_shift[1][2]\n",
    "\n",
    "fshift[crow-30:crow-10, ccol-30:ccol-10] = fft_shift[2][0]\n",
    "fshift[crow-30:crow-10, ccol-10:ccol+10] = fft_shift[2][1]\n",
    "fshift[crow-30:crow-10, ccol+10:ccol+30] = fft_shift[2][2]"
   ]
  }
 ],
 "metadata": {
  "kernelspec": {
   "display_name": "Python 2",
   "language": "python",
   "name": "python2"
  },
  "language_info": {
   "codemirror_mode": {
    "name": "ipython",
    "version": 2
   },
   "file_extension": ".py",
   "mimetype": "text/x-python",
   "name": "python",
   "nbconvert_exporter": "python",
   "pygments_lexer": "ipython2",
   "version": "2.7.12+"
  }
 },
 "nbformat": 4,
 "nbformat_minor": 2
}
