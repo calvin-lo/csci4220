{
 "cells": [
  {
   "cell_type": "code",
   "execution_count": 6,
   "metadata": {
    "collapsed": true
   },
   "outputs": [],
   "source": [
    "#Calvin Lo 100514352\n",
    "import numpy as np\n",
    "import scipy as sp\n",
    "from scipy import signal\n",
    "import cv2\n",
    "import matplotlib.pyplot as plt\n",
    "import argparse\n",
    "import time\n",
    "%matplotlib inline"
   ]
  },
  {
   "cell_type": "code",
   "execution_count": 1,
   "metadata": {
    "collapsed": false
   },
   "outputs": [],
   "source": [
    "def makeLMfilters():\n",
    "    SUP = 49\n",
    "    SCALEX = [np.sqrt(2), np.power(np.sqrt(2),2), np.power(np.sqrt(2),3)]\n",
    "    NORIENT = 6\n",
    "    NROTINV = 12\n",
    "    \n",
    "    NBAR = len(SCALEX) * NORIENT\n",
    "    NEDGE = len(SCALEX) * NORIENT\n",
    "    NF = NBAR + NEDGE + NROTINV\n",
    "    F = np.zeros((SUP, SUP, NF))\n",
    "    hsup = (SUP)/2\n",
    "    x, y = np.meshgrid(np.linspace(-hsup, hsup, hsup*2+1), np.linspace(hsup, -hsup, hsup*2+1))\n",
    "    xx = []\n",
    "    yy = []\n",
    "    for i in range(0, SUP):\n",
    "        for j in range(0, SUP):\n",
    "            xx.append(x[j][i])\n",
    "            yy.append(y[j][i])\n",
    "            \n",
    "    orgpts = np.transpose(np.transpose([xx, yy]))\n",
    "    \n",
    "    count = 0;\n",
    "    for scale in range(0, len(SCALEX)):\n",
    "        for orient in range (0,NORIENT):\n",
    "            angle = np.pi * orient/NORIENT\n",
    "            c = np.cos(angle)\n",
    "            s = np.sin(angle)\n",
    "            rotpts =  np.dot([[c,-s],[s,c]], orgpts)\n",
    "            rotpts = np.asarray(rotpts)\n",
    "            F[:,:,count]=makefilter_LM(SCALEX[scale],0,1,rotpts,SUP)\n",
    "            F[:,:,count+NEDGE]=makefilter_LM(SCALEX[scale],0,2,rotpts,SUP)\n",
    "            count=count+1\n",
    "    \n",
    "    count = NBAR + NEDGE\n",
    "    SCALES = np.power(np.sqrt(2),[1,2,3,4])\n",
    "    for i in range(0,len(SCALES)):\n",
    "        F[:,:,count] = normalise(gauss_kernel((SUP, SUP), SCALES[i]))\n",
    "        F[:,:,count+1] =normalise(log_kernel(SUP,SCALES[i]))\n",
    "        F[:,:,count+2] = normalise(log_kernel(SUP,3*SCALES[i]))\n",
    "        count=count+3;\n",
    "        \n",
    "    return F\n",
    "\n",
    "def makefilter_LM(scale, phasex, phasey, pts, sup):\n",
    "    gx = gauss1d(3*scale, 0, pts[0,:], phasex)\n",
    "    gy = gauss1d(scale, 0, pts[1,:], phasey)\n",
    "    f = normalise(np.reshape(gx*gy, (sup, sup)))\n",
    "    return f\n",
    "\n",
    "def gauss1d(sigma, mean, x, ord):\n",
    "    x = x - mean\n",
    "    num = x * x\n",
    "    variance = np.power(sigma,2)\n",
    "    denom = 2 * variance\n",
    "    g = np.exp(-num/denom)/np.power((np.pi*denom), 0.5)\n",
    "    if ord == 1:\n",
    "        g = -g * (x/variance)\n",
    "    elif ord == 2:\n",
    "        g = g * ((num-variance)/np.power(variance,2))\n",
    "    return g\n",
    "                 \n",
    "def normalise(f):\n",
    "    f = f - np.mean(f[:])\n",
    "    f = f/np.sum(np.abs(f[:]))\n",
    "    return f\n",
    "\n",
    "def gauss_kernel(shape=(3,3),sigma=0.5):\n",
    "    m,n = [(ss-1.)/2. for ss in shape]\n",
    "    y,x = np.ogrid[-m:m+1,-n:n+1]\n",
    "    h = np.exp( -(x*x + y*y) / (2.*sigma*sigma) )\n",
    "    h[ h < np.finfo(h.dtype).eps*h.max() ] = 0\n",
    "    sumh = h.sum()\n",
    "    if sumh != 0:\n",
    "        h /= sumh\n",
    "    return h\n",
    "\n",
    "def log_kernel(p2, sigma):\n",
    "    rows = p2\n",
    "    cols = p2\n",
    "    \n",
    "    r2 = (rows-1)/2\n",
    "    c2 = (cols-1)/2\n",
    "\n",
    "    x, y = np.meshgrid(np.linspace(-c2,c2, c2*2 + 1), np.linspace(-r2,r2, r2*2 + 1))\n",
    "    radsqrd = np.power(x,2) + np.power(y,2)\n",
    "    \n",
    "    f = -1 / (np.pi * np.power(sigma,4))* (1 - radsqrd / 2 * np.power(sigma,2))*np.exp(-radsqrd/2*np.power(sigma,2))\n",
    "    f = f - np.mean(f)\n",
    "    \n",
    "    return f\n",
    "def log_ker(p2,p3):\n",
    "    siz   = (p2-1)/2\n",
    "    std2   = np.power(p3,2)\n",
    "\n",
    "    x,y = np.meshgrid(np.linspace(-siz,siz, 2 * siz + 1), np.linspace(-siz, siz, 2 * siz +1))\n",
    "    arg   = -(x*x + y*y)/(2*std2)\n",
    "\n",
    "    h = np.exp(arg)\n",
    "    eps = 0.00000000000000001\n",
    "    h[h<eps*np.max(h)] = 0\n",
    "\n",
    "    sumh = np.sum(h)\n",
    "      \n",
    "    if sumh != 0:\n",
    "        h  = h/sumh\n",
    "      \n",
    "    h1 = h*(x*x + y*y - 2*std2)/np.power(std2,2)\n",
    "    h = h1 - np.sum(h1)/np.prod(p2)\n",
    "      \n",
    "    return h"
   ]
  },
  {
   "cell_type": "code",
   "execution_count": 21,
   "metadata": {
    "collapsed": false
   },
   "outputs": [],
   "source": [
    "def makeSfilters():\n",
    "    NF = 13\n",
    "    SUP = 49\n",
    "    F = np.zeros((SUP,SUP,NF))\n",
    "    \n",
    "    F[:,:,0]=makefilter(SUP,2,1)\n",
    "    F[:,:,1]=makefilter(SUP,4,1)\n",
    "    F[:,:,2]=makefilter(SUP,4,2)\n",
    "    F[:,:,3]=makefilter(SUP,6,1)\n",
    "    F[:,:,4]=makefilter(SUP,6,2)\n",
    "    F[:,:,5]=makefilter(SUP,6,3)\n",
    "    F[:,:,6]=makefilter(SUP,8,1)\n",
    "    F[:,:,7]=makefilter(SUP,8,2)\n",
    "    F[:,:,8]=makefilter(SUP,8,3)\n",
    "    F[:,:,9]=makefilter(SUP,10,1)\n",
    "    F[:,:,10]=makefilter(SUP,10,2)\n",
    "    F[:,:,11]=makefilter(SUP,10,3)\n",
    "    F[:,:,12]=makefilter(SUP,10,4)\n",
    "\n",
    "    return F\n",
    "    \n",
    "def makefilter(sup, sigma, tau):\n",
    "    hsup = (sup-1)/2\n",
    "    x,y = np.meshgrid(np.linspace(-hsup, hsup, hsup*2+1), np.linspace(-hsup, hsup, hsup*2+1))\n",
    "    r = np.power((x*x+y*y),0.5)\n",
    "    f = np.cos(r*(np.pi*tau/sigma)) * np.exp(-(r*r)/(2*sigma*sigma))\n",
    "    f = f - np.mean(f)\n",
    "    f = f/np.sum(np.abs(f))\n",
    "    return f"
   ]
  },
  {
   "cell_type": "code",
   "execution_count": 518,
   "metadata": {
    "collapsed": false
   },
   "outputs": [],
   "source": [
    "F = makeSfilters()"
   ]
  },
  {
   "cell_type": "code",
   "execution_count": 29,
   "metadata": {
    "collapsed": false
   },
   "outputs": [],
   "source": [
    "def textureAnalysis(file1, file2):\n",
    "    F = makeSfilters()\n",
    "    \n",
    "    img1 = cv2.imread(file1)\n",
    "    img1 = cv2.cvtColor(img1, cv2.COLOR_BGR2GRAY)\n",
    "        \n",
    "    img2 = cv2.imread(file2)\n",
    "    img2 = cv2.cvtColor(img2, cv2.COLOR_BGR2GRAY)\n",
    "\n",
    "    response1 = []\n",
    "    response2 = []\n",
    "    \n",
    "    for i in range(0,13):\n",
    "        response1.append(np.abs(np.convolve(img1, F[:,:,i], mode='valid')))\n",
    "        response2.append(np.abs(np.convolve(img2, F[:,:,i], mode='valid')))\n",
    "        \n",
    "    means1 = []\n",
    "    std1 = []\n",
    "    avg1 = []\n",
    "    means2 = []\n",
    "    std2 = []\n",
    "    avg2 = []\n",
    "    \n",
    "    for i in range(0,13):\n",
    "        m1, s1 = cv2.meanStdDev(response1[i])\n",
    "        means1.append(m1[0][0])\n",
    "        std1.append(s1[0][0])\n",
    "        avg1.append(np.average(response1[i]))\n",
    "        \n",
    "        m2, s2 = cv2.meanStdDev(response2[i])\n",
    "        means2.append(m2[0][0])\n",
    "        std2.append(s2[0][0])\n",
    "        avg2.append(np.average(response2[i]))\n",
    "        \n",
    "    means1 = np.asarray(means1)\n",
    "    means2 = np.asarray(means2)\n",
    "    std1 = np.asarray(std1)\n",
    "    std2 = np.asarray(std2)\n",
    "    avg1 = np.asarray(avg1)\n",
    "    avg2 = np.asarray(avg2)\n",
    "        \n",
    "    means_distance = np.sqrt(np.sum((means1-means2)**2))\n",
    "    std_distance = np.sqrt(np.sum((std1-std2)**2))\n",
    "    avg_distance = np.sqrt(np.sum((avg1-avg2)**2))\n",
    "    \n",
    "    return (means_distance, std_distance, avg_distance)"
   ]
  },
  {
   "cell_type": "code",
   "execution_count": 30,
   "metadata": {
    "collapsed": false
   },
   "outputs": [
    {
     "ename": "ValueError",
     "evalue": "object too deep for desired array",
     "output_type": "error",
     "traceback": [
      "\u001b[0;31m---------------------------------------------------------------------------\u001b[0m",
      "\u001b[0;31mValueError\u001b[0m                                Traceback (most recent call last)",
      "\u001b[0;32m<ipython-input-30-f8d505487f0d>\u001b[0m in \u001b[0;36m<module>\u001b[0;34m()\u001b[0m\n\u001b[1;32m      8\u001b[0m \u001b[0;31m#print textureAnalysis('bumpy_0.jpg', 'bumpy_1.jpg')\u001b[0m\u001b[0;34m\u001b[0m\u001b[0;34m\u001b[0m\u001b[0m\n\u001b[1;32m      9\u001b[0m \u001b[0;31m#print textureAnalysis('bumpy_0.jpg', 'bumpy_2.jpg')\u001b[0m\u001b[0;34m\u001b[0m\u001b[0;34m\u001b[0m\u001b[0m\n\u001b[0;32m---> 10\u001b[0;31m \u001b[0;32mprint\u001b[0m \u001b[0mtextureAnalysis\u001b[0m\u001b[0;34m(\u001b[0m\u001b[0;34m'bumpy_0.jpg'\u001b[0m\u001b[0;34m,\u001b[0m \u001b[0;34m'stained_2.jpg'\u001b[0m\u001b[0;34m)\u001b[0m\u001b[0;34m\u001b[0m\u001b[0m\n\u001b[0m\u001b[1;32m     11\u001b[0m \u001b[0;31m#(5.7849209851645815, 2.8622563337613838, 5.7849209851646002)\u001b[0m\u001b[0;34m\u001b[0m\u001b[0;34m\u001b[0m\u001b[0m\n\u001b[1;32m     12\u001b[0m \u001b[0;31m#(2.5141540111551488, 2.2039629110526571, 2.514154011155298)\u001b[0m\u001b[0;34m\u001b[0m\u001b[0;34m\u001b[0m\u001b[0m\n",
      "\u001b[0;32m<ipython-input-29-75d57d2d9886>\u001b[0m in \u001b[0;36mtextureAnalysis\u001b[0;34m(file1, file2)\u001b[0m\n\u001b[1;32m     12\u001b[0m \u001b[0;34m\u001b[0m\u001b[0m\n\u001b[1;32m     13\u001b[0m     \u001b[0;32mfor\u001b[0m \u001b[0mi\u001b[0m \u001b[0;32min\u001b[0m \u001b[0mrange\u001b[0m\u001b[0;34m(\u001b[0m\u001b[0;36m0\u001b[0m\u001b[0;34m,\u001b[0m\u001b[0;36m13\u001b[0m\u001b[0;34m)\u001b[0m\u001b[0;34m:\u001b[0m\u001b[0;34m\u001b[0m\u001b[0m\n\u001b[0;32m---> 14\u001b[0;31m         \u001b[0mresponse1\u001b[0m\u001b[0;34m.\u001b[0m\u001b[0mappend\u001b[0m\u001b[0;34m(\u001b[0m\u001b[0mnp\u001b[0m\u001b[0;34m.\u001b[0m\u001b[0mabs\u001b[0m\u001b[0;34m(\u001b[0m\u001b[0mnp\u001b[0m\u001b[0;34m.\u001b[0m\u001b[0mconvolve\u001b[0m\u001b[0;34m(\u001b[0m\u001b[0mimg1\u001b[0m\u001b[0;34m,\u001b[0m \u001b[0mF\u001b[0m\u001b[0;34m[\u001b[0m\u001b[0;34m:\u001b[0m\u001b[0;34m,\u001b[0m\u001b[0;34m:\u001b[0m\u001b[0;34m,\u001b[0m\u001b[0mi\u001b[0m\u001b[0;34m]\u001b[0m\u001b[0;34m,\u001b[0m \u001b[0mmode\u001b[0m\u001b[0;34m=\u001b[0m\u001b[0;34m'valid'\u001b[0m\u001b[0;34m)\u001b[0m\u001b[0;34m)\u001b[0m\u001b[0;34m)\u001b[0m\u001b[0;34m\u001b[0m\u001b[0m\n\u001b[0m\u001b[1;32m     15\u001b[0m         \u001b[0mresponse2\u001b[0m\u001b[0;34m.\u001b[0m\u001b[0mappend\u001b[0m\u001b[0;34m(\u001b[0m\u001b[0mnp\u001b[0m\u001b[0;34m.\u001b[0m\u001b[0mabs\u001b[0m\u001b[0;34m(\u001b[0m\u001b[0mnp\u001b[0m\u001b[0;34m.\u001b[0m\u001b[0mconvolve\u001b[0m\u001b[0;34m(\u001b[0m\u001b[0mimg2\u001b[0m\u001b[0;34m,\u001b[0m \u001b[0mF\u001b[0m\u001b[0;34m[\u001b[0m\u001b[0;34m:\u001b[0m\u001b[0;34m,\u001b[0m\u001b[0;34m:\u001b[0m\u001b[0;34m,\u001b[0m\u001b[0mi\u001b[0m\u001b[0;34m]\u001b[0m\u001b[0;34m,\u001b[0m \u001b[0mmode\u001b[0m\u001b[0;34m=\u001b[0m\u001b[0;34m'valid'\u001b[0m\u001b[0;34m)\u001b[0m\u001b[0;34m)\u001b[0m\u001b[0;34m)\u001b[0m\u001b[0;34m\u001b[0m\u001b[0m\n\u001b[1;32m     16\u001b[0m \u001b[0;34m\u001b[0m\u001b[0m\n",
      "\u001b[0;32m/home/calvin/.local/lib/python2.7/site-packages/numpy/core/numeric.pyc\u001b[0m in \u001b[0;36mconvolve\u001b[0;34m(a, v, mode)\u001b[0m\n\u001b[1;32m   1071\u001b[0m         \u001b[0;32mraise\u001b[0m \u001b[0mValueError\u001b[0m\u001b[0;34m(\u001b[0m\u001b[0;34m'v cannot be empty'\u001b[0m\u001b[0;34m)\u001b[0m\u001b[0;34m\u001b[0m\u001b[0m\n\u001b[1;32m   1072\u001b[0m     \u001b[0mmode\u001b[0m \u001b[0;34m=\u001b[0m \u001b[0m_mode_from_name\u001b[0m\u001b[0;34m(\u001b[0m\u001b[0mmode\u001b[0m\u001b[0;34m)\u001b[0m\u001b[0;34m\u001b[0m\u001b[0m\n\u001b[0;32m-> 1073\u001b[0;31m     \u001b[0;32mreturn\u001b[0m \u001b[0mmultiarray\u001b[0m\u001b[0;34m.\u001b[0m\u001b[0mcorrelate\u001b[0m\u001b[0;34m(\u001b[0m\u001b[0ma\u001b[0m\u001b[0;34m,\u001b[0m \u001b[0mv\u001b[0m\u001b[0;34m[\u001b[0m\u001b[0;34m:\u001b[0m\u001b[0;34m:\u001b[0m\u001b[0;34m-\u001b[0m\u001b[0;36m1\u001b[0m\u001b[0;34m]\u001b[0m\u001b[0;34m,\u001b[0m \u001b[0mmode\u001b[0m\u001b[0;34m)\u001b[0m\u001b[0;34m\u001b[0m\u001b[0m\n\u001b[0m\u001b[1;32m   1074\u001b[0m \u001b[0;34m\u001b[0m\u001b[0m\n\u001b[1;32m   1075\u001b[0m \u001b[0;34m\u001b[0m\u001b[0m\n",
      "\u001b[0;31mValueError\u001b[0m: object too deep for desired array"
     ]
    }
   ],
   "source": [
    "#print textureAnalysis('stained_0.jpg', 'stained_1.jpg') \n",
    "#print textureAnalysis('stained_0.jpg', 'stained_2.jpg') \n",
    "#print textureAnalysis('stained_0.jpg', 'bumpy_0.jpg') \n",
    "#(5.9077866180194496, 7.29089354ss13718279, 5.907786618019415)\n",
    "#(1.1042809611102347, 0.4674618980029932, 1.1042809611102367)\n",
    "#(13.007645035122978, 8.4344153300497293, 13.007645035122964)\n",
    "\n",
    "#print textureAnalysis('bumpy_0.jpg', 'bumpy_1.jpg') \n",
    "#print textureAnalysis('bumpy_0.jpg', 'bumpy_2.jpg') \n",
    "print textureAnalysis('bumpy_0.jpg', 'stained_2.jpg') \n",
    "#(5.7849209851645815, 2.8622563337613838, 5.7849209851646002)\n",
    "#(2.5141540111551488, 2.2039629110526571, 2.514154011155298)\n",
    "#(11.911587353061156, 7.9824956018814559, 11.91158735306114)"
   ]
  },
  {
   "cell_type": "code",
   "execution_count": 26,
   "metadata": {
    "collapsed": false
   },
   "outputs": [
    {
     "name": "stdout",
     "output_type": "stream",
     "text": [
      "<type 'numpy.ndarray'>\n",
      "<type 'numpy.ndarray'>\n"
     ]
    }
   ],
   "source": [
    "LM = makeLMfilters()\n",
    "print type(LM[:,:,0])\n",
    "S = makeSfilters()\n",
    "print type(S[:,:,0])"
   ]
  },
  {
   "cell_type": "code",
   "execution_count": 27,
   "metadata": {
    "collapsed": true
   },
   "outputs": [],
   "source": [
    "def textureAnalysisLM(file1, file2):\n",
    "    LM = makeLMfilters()\n",
    "    \n",
    "    LM_img1 = cv2.imread(file1)\n",
    "    LMimg1 = cv2.cvtColor(LM_img1, cv2.COLOR_BGR2GRAY)\n",
    "        \n",
    "    LM_img2 = cv2.imread(file2)\n",
    "    LM_img2 = cv2.cvtColor(LM_img2, cv2.COLOR_BGR2GRAY)\n",
    "\n",
    "    LM_response1 = []\n",
    "    LM_response2 = []\n",
    "    \n",
    "    for i in range(0,48):\n",
    "        LM_response1.append(np.abs(signal.convolve(LM_img1, LM[:,:,i], mode='valid')))\n",
    "        LM_response2.append(np.abs(signal.convolve(LM_img2, LM[:,:,i], mode='valid')))\n",
    "        \n",
    "    LM_means1 = []\n",
    "    LM_std1 = []\n",
    "    LM_avg1 = []\n",
    "    LM_means2 = []\n",
    "    LM_std2 = []\n",
    "    LM_avg2 = []\n",
    "    \n",
    "    for i in range(0,13):\n",
    "        LM_m1, LM_s1 = cv2.meanSstdDev(LM_response1[i])\n",
    "        LM_means1.append(LM_m1[0][0])\n",
    "        LM_std1.append(LM_s1[0][0])\n",
    "        LM_avg1.append(np.average(LM_response1[i]))\n",
    "        \n",
    "        LM_m2, LM_s2 = cv2.meanStdDev(LM_response2[i])\n",
    "        LM_means2.append(LM_m2[0][0])\n",
    "        LM_std2.append(LM_s2[0][0])\n",
    "        LM_avg2.append(np.average(LM_response2[i]))\n",
    "        \n",
    "    LM_means1 = np.asarray(LM_means1)\n",
    "    means2 = np.asarray(LM_means2)\n",
    "    LM_std1 = np.asarray(LM_std1)\n",
    "    LM_std2 = np.asarray(LM_std2)\n",
    "    LM_avg1 = np.asarray(LM_avg1)\n",
    "    LM_avg2 = np.asarray(LM_avg2)\n",
    "        \n",
    "    LM_means_distance = np.sqrt(np.sum((LM_means1-LM_means2)**2))\n",
    "    LM_std_distance = np.sqrt(np.sum((LM_std1-LM_std2)**2))\n",
    "    LM_avg_distance = np.sqrt(np.sum((LM_avg1-LM_avg2)**2))\n",
    "    \n",
    "    return (LM_means_distance, LM_td_distance, LM_avg_distance)"
   ]
  },
  {
   "cell_type": "code",
   "execution_count": 28,
   "metadata": {
    "collapsed": false
   },
   "outputs": [
    {
     "ename": "ValueError",
     "evalue": "in1 and in2 should have the same dimensionality",
     "output_type": "error",
     "traceback": [
      "\u001b[0;31m---------------------------------------------------------------------------\u001b[0m",
      "\u001b[0;31mValueError\u001b[0m                                Traceback (most recent call last)",
      "\u001b[0;32m<ipython-input-28-c4673bb39227>\u001b[0m in \u001b[0;36m<module>\u001b[0;34m()\u001b[0m\n\u001b[0;32m----> 1\u001b[0;31m \u001b[0;32mprint\u001b[0m \u001b[0mtextureAnalysisLM\u001b[0m\u001b[0;34m(\u001b[0m\u001b[0;34m'bumpy_0.jpg'\u001b[0m\u001b[0;34m,\u001b[0m \u001b[0;34m'stained_2.jpg'\u001b[0m\u001b[0;34m)\u001b[0m\u001b[0;34m\u001b[0m\u001b[0m\n\u001b[0m",
      "\u001b[0;32m<ipython-input-27-c252a1be37a8>\u001b[0m in \u001b[0;36mtextureAnalysisLM\u001b[0;34m(file1, file2)\u001b[0m\n\u001b[1;32m     12\u001b[0m \u001b[0;34m\u001b[0m\u001b[0m\n\u001b[1;32m     13\u001b[0m     \u001b[0;32mfor\u001b[0m \u001b[0mi\u001b[0m \u001b[0;32min\u001b[0m \u001b[0mrange\u001b[0m\u001b[0;34m(\u001b[0m\u001b[0;36m0\u001b[0m\u001b[0;34m,\u001b[0m\u001b[0;36m48\u001b[0m\u001b[0;34m)\u001b[0m\u001b[0;34m:\u001b[0m\u001b[0;34m\u001b[0m\u001b[0m\n\u001b[0;32m---> 14\u001b[0;31m         \u001b[0mLM_response1\u001b[0m\u001b[0;34m.\u001b[0m\u001b[0mappend\u001b[0m\u001b[0;34m(\u001b[0m\u001b[0mnp\u001b[0m\u001b[0;34m.\u001b[0m\u001b[0mabs\u001b[0m\u001b[0;34m(\u001b[0m\u001b[0msignal\u001b[0m\u001b[0;34m.\u001b[0m\u001b[0mconvolve\u001b[0m\u001b[0;34m(\u001b[0m\u001b[0mLM_img1\u001b[0m\u001b[0;34m,\u001b[0m \u001b[0mLM\u001b[0m\u001b[0;34m[\u001b[0m\u001b[0;34m:\u001b[0m\u001b[0;34m,\u001b[0m\u001b[0;34m:\u001b[0m\u001b[0;34m,\u001b[0m\u001b[0mi\u001b[0m\u001b[0;34m]\u001b[0m\u001b[0;34m,\u001b[0m \u001b[0mmode\u001b[0m\u001b[0;34m=\u001b[0m\u001b[0;34m'valid'\u001b[0m\u001b[0;34m)\u001b[0m\u001b[0;34m)\u001b[0m\u001b[0;34m)\u001b[0m\u001b[0;34m\u001b[0m\u001b[0m\n\u001b[0m\u001b[1;32m     15\u001b[0m         \u001b[0mLM_response2\u001b[0m\u001b[0;34m.\u001b[0m\u001b[0mappend\u001b[0m\u001b[0;34m(\u001b[0m\u001b[0mnp\u001b[0m\u001b[0;34m.\u001b[0m\u001b[0mabs\u001b[0m\u001b[0;34m(\u001b[0m\u001b[0msignal\u001b[0m\u001b[0;34m.\u001b[0m\u001b[0mconvolve\u001b[0m\u001b[0;34m(\u001b[0m\u001b[0mLM_img2\u001b[0m\u001b[0;34m,\u001b[0m \u001b[0mLM\u001b[0m\u001b[0;34m[\u001b[0m\u001b[0;34m:\u001b[0m\u001b[0;34m,\u001b[0m\u001b[0;34m:\u001b[0m\u001b[0;34m,\u001b[0m\u001b[0mi\u001b[0m\u001b[0;34m]\u001b[0m\u001b[0;34m,\u001b[0m \u001b[0mmode\u001b[0m\u001b[0;34m=\u001b[0m\u001b[0;34m'valid'\u001b[0m\u001b[0;34m)\u001b[0m\u001b[0;34m)\u001b[0m\u001b[0;34m)\u001b[0m\u001b[0;34m\u001b[0m\u001b[0m\n\u001b[1;32m     16\u001b[0m \u001b[0;34m\u001b[0m\u001b[0m\n",
      "\u001b[0;32m/home/calvin/.local/lib/python2.7/site-packages/scipy/signal/signaltools.pyc\u001b[0m in \u001b[0;36mconvolve\u001b[0;34m(in1, in2, mode)\u001b[0m\n\u001b[1;32m    462\u001b[0m \u001b[0;34m\u001b[0m\u001b[0m\n\u001b[1;32m    463\u001b[0m     \u001b[0;31m# .conj() does nothing to real arrays and is faster than iscomplexobj()\u001b[0m\u001b[0;34m\u001b[0m\u001b[0;34m\u001b[0m\u001b[0m\n\u001b[0;32m--> 464\u001b[0;31m     \u001b[0;32mreturn\u001b[0m \u001b[0mcorrelate\u001b[0m\u001b[0;34m(\u001b[0m\u001b[0mvolume\u001b[0m\u001b[0;34m,\u001b[0m \u001b[0mkernel\u001b[0m\u001b[0;34m[\u001b[0m\u001b[0mreverse\u001b[0m\u001b[0;34m]\u001b[0m\u001b[0;34m.\u001b[0m\u001b[0mconj\u001b[0m\u001b[0;34m(\u001b[0m\u001b[0;34m)\u001b[0m\u001b[0;34m,\u001b[0m \u001b[0mmode\u001b[0m\u001b[0;34m)\u001b[0m\u001b[0;34m\u001b[0m\u001b[0m\n\u001b[0m\u001b[1;32m    465\u001b[0m \u001b[0;34m\u001b[0m\u001b[0m\n\u001b[1;32m    466\u001b[0m \u001b[0;34m\u001b[0m\u001b[0m\n",
      "\u001b[0;32m/home/calvin/.local/lib/python2.7/site-packages/scipy/signal/signaltools.pyc\u001b[0m in \u001b[0;36mcorrelate\u001b[0;34m(in1, in2, mode)\u001b[0m\n\u001b[1;32m    187\u001b[0m         \u001b[0;32mreturn\u001b[0m \u001b[0min1\u001b[0m \u001b[0;34m*\u001b[0m \u001b[0min2\u001b[0m\u001b[0;34m\u001b[0m\u001b[0m\n\u001b[1;32m    188\u001b[0m     \u001b[0;32melif\u001b[0m \u001b[0;32mnot\u001b[0m \u001b[0min1\u001b[0m\u001b[0;34m.\u001b[0m\u001b[0mndim\u001b[0m \u001b[0;34m==\u001b[0m \u001b[0min2\u001b[0m\u001b[0;34m.\u001b[0m\u001b[0mndim\u001b[0m\u001b[0;34m:\u001b[0m\u001b[0;34m\u001b[0m\u001b[0m\n\u001b[0;32m--> 189\u001b[0;31m         \u001b[0;32mraise\u001b[0m \u001b[0mValueError\u001b[0m\u001b[0;34m(\u001b[0m\u001b[0;34m\"in1 and in2 should have the same dimensionality\"\u001b[0m\u001b[0;34m)\u001b[0m\u001b[0;34m\u001b[0m\u001b[0m\n\u001b[0m\u001b[1;32m    190\u001b[0m \u001b[0;34m\u001b[0m\u001b[0m\n\u001b[1;32m    191\u001b[0m     \u001b[0;31m# numpy is significantly faster for 1d (but numpy's 'same' mode uses\u001b[0m\u001b[0;34m\u001b[0m\u001b[0;34m\u001b[0m\u001b[0m\n",
      "\u001b[0;31mValueError\u001b[0m: in1 and in2 should have the same dimensionality"
     ]
    }
   ],
   "source": [
    "print textureAnalysisLM('bumpy_0.jpg', 'stained_2.jpg') "
   ]
  },
  {
   "cell_type": "code",
   "execution_count": null,
   "metadata": {
    "collapsed": true
   },
   "outputs": [],
   "source": []
  }
 ],
 "metadata": {
  "kernelspec": {
   "display_name": "Python 2",
   "language": "python",
   "name": "python2"
  },
  "language_info": {
   "codemirror_mode": {
    "name": "ipython",
    "version": 2
   },
   "file_extension": ".py",
   "mimetype": "text/x-python",
   "name": "python",
   "nbconvert_exporter": "python",
   "pygments_lexer": "ipython2",
   "version": "2.7.12+"
  }
 },
 "nbformat": 4,
 "nbformat_minor": 2
}
